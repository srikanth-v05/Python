{
 "cells": [
  {
   "cell_type": "code",
   "execution_count": 1,
   "id": "f1aae2d7",
   "metadata": {},
   "outputs": [
    {
     "name": "stdout",
     "output_type": "stream",
     "text": [
      "hello world\n"
     ]
    }
   ],
   "source": [
    "#Display “Hello World” in your output screen.\n",
    "print(\"hello world\")"
   ]
  },
  {
   "cell_type": "code",
   "execution_count": 3,
   "id": "ac6d62de",
   "metadata": {},
   "outputs": [
    {
     "name": "stdout",
     "output_type": "stream",
     "text": [
      "enter value of a25\n",
      "enter value of b89\n",
      "sum is 114\n"
     ]
    }
   ],
   "source": [
    "#Get the input from the user and perform addition of two numbers.\n",
    "a=int(input(\"enter value of a\"))\n",
    "b=int(input(\"enter value of b\"))\n",
    "print(\"sum is\",a+b)"
   ]
  },
  {
   "cell_type": "code",
   "execution_count": 4,
   "id": "593056f6",
   "metadata": {},
   "outputs": [
    {
     "name": "stdout",
     "output_type": "stream",
     "text": [
      "enter value of a3\n",
      "enter value of b6\n",
      "a is 6 b is 3\n"
     ]
    }
   ],
   "source": [
    "#swap two variables without temp variable.\n",
    "a=int(input(\"enter value of a\"))\n",
    "b=int(input(\"enter value of b\"))\n",
    "a=a+b;\n",
    "b=a-b;\n",
    "a=a-b;\n",
    "print(\"a is\",a,\"b is\",b)"
   ]
  },
  {
   "cell_type": "code",
   "execution_count": 17,
   "id": "b5bad4c5",
   "metadata": {},
   "outputs": [
    {
     "name": "stdout",
     "output_type": "stream",
     "text": [
      "enter the year2020\n",
      "leap year\n"
     ]
    }
   ],
   "source": [
    "#verify that the given year is a leap year.\n",
    "y=int(input(\"enter the year\"))\n",
    "if(y%400==0)and(y%100==0):\n",
    "    print(\"leap year\")\n",
    "elif(y%4==0)and(y%100!=0):\n",
    "    print(\"leap year\")\n",
    "else:\n",
    "    print(\"not leap\")"
   ]
  },
  {
   "cell_type": "code",
   "execution_count": 7,
   "id": "70d24d38",
   "metadata": {},
   "outputs": [
    {
     "name": "stdout",
     "output_type": "stream",
     "text": [
      "enter the number-90\n",
      "negative\n"
     ]
    }
   ],
   "source": [
    "#check whether the given number is positive, negative or 0.\n",
    "y=int(input(\"enter the number\"))\n",
    "if y==0:\n",
    "    print(\"0\")\n",
    "elif y>0:\n",
    "    print(\"positive\")\n",
    "else:\n",
    "    print(\"negative\")"
   ]
  },
  {
   "cell_type": "code",
   "execution_count": 9,
   "id": "d56ef626",
   "metadata": {},
   "outputs": [
    {
     "name": "stdout",
     "output_type": "stream",
     "text": [
      "enter kilometer10\n",
      "mile is 6.21371\n"
     ]
    }
   ],
   "source": [
    "#convert the entered kilometres ( Convertion  Factor= 0.621371).\n",
    "y=float(input(\"enter kilometer\"))\n",
    "c=y*0.621371\n",
    "print(\"mile is\",c)"
   ]
  },
  {
   "cell_type": "code",
   "execution_count": 19,
   "id": "0a5fd908",
   "metadata": {},
   "outputs": [
    {
     "name": "stdout",
     "output_type": "stream",
     "text": [
      "st value1\n",
      "end value10\n",
      "2\n",
      "3\n",
      "5\n",
      "7\n"
     ]
    }
   ],
   "source": [
    "#display the prime numbers within the given interval.\n",
    "a=int(input(\"st value\"))\n",
    "b=int(input(\"end value\"))\n",
    "for i in range(a,b):\n",
    "    c=0\n",
    "    for j in range(1,i):\n",
    "        if i%j==0:\n",
    "            c+=1\n",
    "    if(c==1):\n",
    "        print(i)\n"
   ]
  },
  {
   "cell_type": "code",
   "execution_count": 12,
   "id": "aafa125f",
   "metadata": {},
   "outputs": [
    {
     "name": "stdout",
     "output_type": "stream",
     "text": [
      "0\n",
      "1\n",
      "1\n",
      "2\n",
      "3\n",
      "5\n",
      "8\n",
      "13\n",
      "21\n",
      "34\n",
      "55\n"
     ]
    }
   ],
   "source": [
    "#display the Fibonacci sequence up to n-th term.\n",
    "a=0\n",
    "b=1\n",
    "print(a)\n",
    "print(b)\n",
    "for x in range(1,10,1):\n",
    "    sum=a+b\n",
    "    print(sum)\n",
    "    a=b\n",
    "    b=sum"
   ]
  },
  {
   "cell_type": "code",
   "execution_count": 1,
   "id": "d9d9622d",
   "metadata": {},
   "outputs": [
    {
     "name": "stdout",
     "output_type": "stream",
     "text": [
      "enter the sum for n th term5\n",
      "sum of n terms 15\n"
     ]
    }
   ],
   "source": [
    "#Find the Sum of natural numbers up to n-th term.\n",
    "y=int(input(\"enter the sum for n th term\"))\n",
    "sum=0\n",
    "for x in range(1,y+1):\n",
    "    sum+=x\n",
    "print(\"sum of n terms\",sum)"
   ]
  },
  {
   "cell_type": "code",
   "execution_count": 9,
   "id": "880943fe",
   "metadata": {},
   "outputs": [
    {
     "name": "stdout",
     "output_type": "stream",
     "text": [
      "enter the number153\n",
      "armstrong\n"
     ]
    }
   ],
   "source": [
    "#check if the number is an Armstrong number or not.\n",
    "y=int(input(\"enter the number\"))\n",
    "sum=0\n",
    "temp=y\n",
    "d=temp%10\n",
    "e=(temp//10)%10\n",
    "f=int(temp/100)\n",
    "sum=(d**3)+(e**3)+(f**3)\n",
    "if sum==y:\n",
    "    print(\"armstrong\")\n",
    "else:\n",
    "    print(\"not armstrong\")"
   ]
  },
  {
   "cell_type": "code",
   "execution_count": 1,
   "id": "5cfb6acb",
   "metadata": {},
   "outputs": [
    {
     "name": "stdout",
     "output_type": "stream",
     "text": [
      "number of line5\n",
      "* \n",
      "* * \n",
      "* * * \n",
      "* * * * \n",
      "* * * * * \n"
     ]
    }
   ],
   "source": [
    "#check if the number is an Armstrong number or not.\n",
    "x=int(input(\"number of line\"))\n",
    "for i in range(1,x+1):\n",
    "    print(\"* \"*i)"
   ]
  },
  {
   "cell_type": "code",
   "execution_count": 7,
   "id": "397d0a92",
   "metadata": {},
   "outputs": [
    {
     "name": "stdout",
     "output_type": "stream",
     "text": [
      "number of character removed4\n",
      "Initial String hello students\n",
      "Resultant String o students\n"
     ]
    }
   ],
   "source": [
    "#Write a program to remove characters from a string starting from zero up to n and return a new string.\n",
    "str1 = \"hello students\"\n",
    "n = int(input(\"number of character removed\"))\n",
    "print(\"Initial String\", str1)\n",
    "res = ''\n",
    "for i in range(0, len(str1)):\n",
    "    if i >= n:\n",
    "        res +=str1[i]\n",
    "print(\"Resultant String\", res)"
   ]
  },
  {
   "cell_type": "code",
   "execution_count": 8,
   "id": "81e27746",
   "metadata": {},
   "outputs": [
    {
     "name": "stdout",
     "output_type": "stream",
     "text": [
      "45\n",
      "65\n",
      "510\n",
      "20\n"
     ]
    }
   ],
   "source": [
    "#Write a program to remove characters from a string starting from zero up to n and return a new string.\n",
    "li=[23,45,65,44,32,34,510,20]\n",
    "for x in li:\n",
    "    if x%5==0:\n",
    "        print(x)"
   ]
  },
  {
   "cell_type": "code",
   "execution_count": 9,
   "id": "337eac65",
   "metadata": {},
   "outputs": [
    {
     "name": "stdout",
     "output_type": "stream",
     "text": [
      "5\n"
     ]
    }
   ],
   "source": [
    "#Write a program to find how many times substring “Hi” appears in the given string.\n",
    "str1=\"hihello hi heeelo hihihi\"\n",
    "n=str1.count(\"hi\")\n",
    "print(n)"
   ]
  },
  {
   "cell_type": "code",
   "execution_count": 5,
   "id": "7c8ae07a",
   "metadata": {},
   "outputs": [
    {
     "name": "stdout",
     "output_type": "stream",
     "text": [
      "1 \n",
      "\n",
      "2 2 \n",
      "\n",
      "3 3 3 \n",
      "\n",
      "4 4 4 4 \n",
      "\n",
      "5 5 5 5 5 \n",
      "\n"
     ]
    }
   ],
   "source": [
    "#Print the following pattern.\n",
    "for x in range(1,6):\n",
    "    for y in range(1,x+1):\n",
    "        print(x,end=\" \")\n",
    "    print(\"\\n\")"
   ]
  },
  {
   "cell_type": "code",
   "execution_count": 7,
   "id": "dfdcf666",
   "metadata": {},
   "outputs": [
    {
     "name": "stdout",
     "output_type": "stream",
     "text": [
      "enter the number56765\n",
      "Palindrome\n"
     ]
    }
   ],
   "source": [
    "#Write a program to check if the given number is a palindrome number.\n",
    "n=input(\"enter the number\")\n",
    "k=n[::-1]\n",
    "if k == n:\n",
    "    print(\"Palindrome\")\n",
    "else:\n",
    "    print(\"not a palindrome\")\n"
   ]
  },
  {
   "cell_type": "code",
   "execution_count": 2,
   "id": "580f2969",
   "metadata": {},
   "outputs": [
    {
     "name": "stdout",
     "output_type": "stream",
     "text": [
      "Original list: [8, 9, 66, 54, 3, 2, 12]\n",
      "List after swapping first and last elements: [12, 9, 66, 54, 3, 2, 8]\n"
     ]
    }
   ],
   "source": [
    "#Python program to interchange first and last elements in a list.\n",
    "a = [8,9,66,54,3,2,12]\n",
    "print(\"Original list:\", a)\n",
    "\n",
    "if len(a) >= 2:\n",
    "    a[0], a[-1] = a[-1], a[0]\n",
    "\n",
    "print(\"List after swapping first and last elements:\", a)\n"
   ]
  },
  {
   "cell_type": "code",
   "execution_count": 22,
   "id": "04793e21",
   "metadata": {},
   "outputs": [
    {
     "name": "stdout",
     "output_type": "stream",
     "text": [
      "[19, 65, 23, 90]\n"
     ]
    }
   ],
   "source": [
    "#Python program to swap two elements in a list.\n",
    "def swapPositions(list, pos1, pos2):\n",
    "    first_ele = list.pop(pos1)  \n",
    "    second_ele = list.pop(pos2-1)\n",
    "    list.insert(pos1, second_ele) \n",
    "    list.insert(pos2, first_ele) \n",
    "    return list\n",
    "List = [23, 65, 19, 90]\n",
    "pos1, pos2  = 1, 3\n",
    "print(swapPositions(List, pos1-1, pos2-1))"
   ]
  },
  {
   "cell_type": "code",
   "execution_count": 9,
   "id": "f5adafc3",
   "metadata": {},
   "outputs": [
    {
     "name": "stdout",
     "output_type": "stream",
     "text": [
      "['what', 'are', 'you', 'doing', '?', 3]\n",
      "['what', 'are', 'mine', 'you', 'doing', '?', 3]\n",
      "['what', 'are', 'mine', 'you', 'doing', '?', 3, 1, 2, 3]\n"
     ]
    }
   ],
   "source": [
    "#Python | Ways to find length of list.\n",
    "\n",
    "list=[\"what\",\"are\",\"you\",\"doing\",\"?\"]\n",
    "#append\n",
    "list.append(3)\n",
    "print(list)\n",
    "#insert\n",
    "list.insert(2,\"mine\")\n",
    "print(list)\n",
    "#extend\n",
    "list.extend([1,2,3])\n",
    "print(list)"
   ]
  },
  {
   "cell_type": "code",
   "execution_count": 11,
   "id": "0485b958",
   "metadata": {},
   "outputs": [
    {
     "name": "stdout",
     "output_type": "stream",
     "text": [
      "54\n"
     ]
    }
   ],
   "source": [
    "#Maximum of two numbers in Python.\n",
    "list=[34,54]\n",
    "print(max(list))"
   ]
  },
  {
   "cell_type": "code",
   "execution_count": 12,
   "id": "082f2707",
   "metadata": {},
   "outputs": [
    {
     "name": "stdout",
     "output_type": "stream",
     "text": [
      "34\n"
     ]
    }
   ],
   "source": [
    "#Minimum of two numbers in Python.\n",
    "list=[34,54]\n",
    "print(min(list))"
   ]
  },
  {
   "cell_type": "code",
   "execution_count": 13,
   "id": "f1deefe2",
   "metadata": {},
   "outputs": [
    {
     "name": "stdout",
     "output_type": "stream",
     "text": [
      "Enter a string: sriirs\n",
      "The string is a palindrome.\n"
     ]
    }
   ],
   "source": [
    "#Python program to check whether the string is Symmetrical or Palindrome.\n",
    "def is_symmetrical(string):\n",
    "    length = len(string)\n",
    "    for i in range(length // 2):\n",
    "        if string[i] != string[length - i - 1]:\n",
    "            return False\n",
    "    return True\n",
    "\n",
    "def is_palindrome(string):\n",
    "    string = string.lower().replace(\" \", \"\")\n",
    "    return is_symmetrical(string)\n",
    "my_string = input(\"Enter a string: \")\n",
    "\n",
    "if is_palindrome(my_string):\n",
    "    print(\"The string is a palindrome.\")\n",
    "else:\n",
    "    print(\"The string is not a palindrome.\")\n"
   ]
  },
  {
   "cell_type": "code",
   "execution_count": 17,
   "id": "4eb16800",
   "metadata": {},
   "outputs": [
    {
     "name": "stdout",
     "output_type": "stream",
     "text": [
      "htnakirs\n"
     ]
    }
   ],
   "source": [
    "#Reverse words in a given String in Python.\n",
    "str=\"srikanth\"\n",
    "print(str[::-1])"
   ]
  },
  {
   "cell_type": "code",
   "execution_count": 1,
   "id": "38ab06ff",
   "metadata": {},
   "outputs": [
    {
     "name": "stdout",
     "output_type": "stream",
     "text": [
      "enter the name : srik\n",
      "enter pos u want to remove : 3\n",
      "sri\n"
     ]
    }
   ],
   "source": [
    "#Ways to remove i’th character from string in Python.\n",
    "name=input(\"enter the name : \")\n",
    "i=int(input(\"enter pos u want to remove : \"))\n",
    "c=name[i]\n",
    "name1=name.replace(c,'')\n",
    "print(name1)"
   ]
  },
  {
   "cell_type": "code",
   "execution_count": 3,
   "id": "0a00c05a",
   "metadata": {},
   "outputs": [
    {
     "name": "stdout",
     "output_type": "stream",
     "text": [
      "enter  string : srik\n",
      "4\n"
     ]
    }
   ],
   "source": [
    "#Find length of a string in python.\n",
    "str=input(\"enter  string : \")\n",
    "print(len(str))"
   ]
  },
  {
   "cell_type": "code",
   "execution_count": 1,
   "id": "fe465402",
   "metadata": {},
   "outputs": [
    {
     "name": "stdout",
     "output_type": "stream",
     "text": [
      "enter  string : srik\n",
      "si\n"
     ]
    }
   ],
   "source": [
    "#Python program to print even length words in a string.\n",
    "a=input(\"enter  string : \")\n",
    "print(a[::2])"
   ]
  },
  {
   "cell_type": "code",
   "execution_count": 1,
   "id": "1be8f401",
   "metadata": {},
   "outputs": [
    {
     "name": "stdout",
     "output_type": "stream",
     "text": [
      "the length of the tuple is :  8\n"
     ]
    }
   ],
   "source": [
    "#Python program to Find the size of a Tuple.\n",
    "tuple=(2,3,4,5,6,7,8,9)\n",
    "n=len(tuple)\n",
    "print(\"the length of the tuple is : \", n)"
   ]
  },
  {
   "cell_type": "code",
   "execution_count": 4,
   "id": "3d3770ea",
   "metadata": {},
   "outputs": [
    {
     "name": "stdout",
     "output_type": "stream",
     "text": [
      "the maximum is 8 and minimum is 1\n"
     ]
    }
   ],
   "source": [
    "#Python – Maximum and Minimum K elements in Tuple.\n",
    "tuple=(1,2,3,4,5,6,7,8)\n",
    "k=max(tuple)\n",
    "t=min(tuple)\n",
    "print(\"the maximum is\",k,\"and minimum is\",t)"
   ]
  },
  {
   "cell_type": "code",
   "execution_count": 8,
   "id": "da84e079",
   "metadata": {},
   "outputs": [
    {
     "name": "stdout",
     "output_type": "stream",
     "text": [
      "sum of tuple is 36\n"
     ]
    }
   ],
   "source": [
    "#Python – Sum of tuple elements.\n",
    "tuple=(1,2,3,4,5,6,7,8)\n",
    "sum=0\n",
    "for i in tuple:\n",
    "    sum+=i\n",
    "print(\"sum of tuple is\",sum)"
   ]
  },
  {
   "cell_type": "code",
   "execution_count": 15,
   "id": "6fba7fe2",
   "metadata": {},
   "outputs": [
    {
     "name": "stdout",
     "output_type": "stream",
     "text": [
      "10\n"
     ]
    }
   ],
   "source": [
    "#Python – Row-wise element Addition in Tuple Matrix.\n",
    "var=10\n",
    "for  i in range(10):\n",
    "    for j in range(2,10,1):\n",
    "        if var%2==0:\n",
    "            continue\n",
    "            var+=1\n",
    "            var+=1\n",
    "        else:\n",
    "            var+=1\n",
    "print(var)"
   ]
  },
  {
   "cell_type": "code",
   "execution_count": 17,
   "id": "6be3ab02",
   "metadata": {},
   "outputs": [
    {
     "name": "stdout",
     "output_type": "stream",
     "text": [
      "[(1, 1), (2, 8), (3, 27), (4, 64), (5, 125)]\n"
     ]
    }
   ],
   "source": [
    "#Create a list of tuples from given list having number and its cube in each tuple\n",
    "def create_tuples(numbers):\n",
    "    tuples = [(num, num ** 3) for num in numbers]\n",
    "    return tuples\n",
    "list = [1, 2, 3, 4, 5]\n",
    "result = create_tuples(list)\n",
    "print(result)\n"
   ]
  }
 ],
 "metadata": {
  "kernelspec": {
   "display_name": "Python 3 (ipykernel)",
   "language": "python",
   "name": "python3"
  },
  "language_info": {
   "codemirror_mode": {
    "name": "ipython",
    "version": 3
   },
   "file_extension": ".py",
   "mimetype": "text/x-python",
   "name": "python",
   "nbconvert_exporter": "python",
   "pygments_lexer": "ipython3",
   "version": "3.10.9"
  }
 },
 "nbformat": 4,
 "nbformat_minor": 5
}
